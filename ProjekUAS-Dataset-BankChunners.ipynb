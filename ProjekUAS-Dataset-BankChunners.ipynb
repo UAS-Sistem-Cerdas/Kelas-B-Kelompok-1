{
 "cells": [
  {
   "cell_type": "code",
   "execution_count": 18,
   "metadata": {
    "scrolled": true
   },
   "outputs": [
    {
     "name": "stdout",
     "output_type": "stream",
     "text": [
      "       CLIENTNUM     Attrition_Flag  Customer_Age Gender  Dependent_count  \\\n",
      "0      768805383  Existing Customer            45      M                3   \n",
      "1      818770008  Existing Customer            49      F                5   \n",
      "2      713982108  Existing Customer            51      M                3   \n",
      "3      769911858  Existing Customer            40      F                4   \n",
      "4      709106358  Existing Customer            40      M                3   \n",
      "...          ...                ...           ...    ...              ...   \n",
      "10122  772366833  Existing Customer            50      M                2   \n",
      "10123  710638233  Attrited Customer            41      M                2   \n",
      "10124  716506083  Attrited Customer            44      F                1   \n",
      "10125  717406983  Attrited Customer            30      M                2   \n",
      "10126  714337233  Attrited Customer            43      F                2   \n",
      "\n",
      "      Education_Level Marital_Status Income_Category Card_Category  \\\n",
      "0         High School        Married     $60K - $80K          Blue   \n",
      "1            Graduate         Single  Less than $40K          Blue   \n",
      "2            Graduate        Married    $80K - $120K          Blue   \n",
      "3         High School        Unknown  Less than $40K          Blue   \n",
      "4          Uneducated        Married     $60K - $80K          Blue   \n",
      "...               ...            ...             ...           ...   \n",
      "10122        Graduate         Single     $40K - $60K          Blue   \n",
      "10123         Unknown       Divorced     $40K - $60K          Blue   \n",
      "10124     High School        Married  Less than $40K          Blue   \n",
      "10125        Graduate        Unknown     $40K - $60K          Blue   \n",
      "10126        Graduate        Married  Less than $40K        Silver   \n",
      "\n",
      "       Months_on_book  ...  Credit_Limit  Total_Revolving_Bal  \\\n",
      "0                  39  ...       12691.0                  777   \n",
      "1                  44  ...        8256.0                  864   \n",
      "2                  36  ...        3418.0                    0   \n",
      "3                  34  ...        3313.0                 2517   \n",
      "4                  21  ...        4716.0                    0   \n",
      "...               ...  ...           ...                  ...   \n",
      "10122              40  ...        4003.0                 1851   \n",
      "10123              25  ...        4277.0                 2186   \n",
      "10124              36  ...        5409.0                    0   \n",
      "10125              36  ...        5281.0                    0   \n",
      "10126              25  ...       10388.0                 1961   \n",
      "\n",
      "       Avg_Open_To_Buy  Total_Amt_Chng_Q4_Q1  Total_Trans_Amt  Total_Trans_Ct  \\\n",
      "0              11914.0                 1.335             1144              42   \n",
      "1               7392.0                 1.541             1291              33   \n",
      "2               3418.0                 2.594             1887              20   \n",
      "3                796.0                 1.405             1171              20   \n",
      "4               4716.0                 2.175              816              28   \n",
      "...                ...                   ...              ...             ...   \n",
      "10122           2152.0                 0.703            15476             117   \n",
      "10123           2091.0                 0.804             8764              69   \n",
      "10124           5409.0                 0.819            10291              60   \n",
      "10125           5281.0                 0.535             8395              62   \n",
      "10126           8427.0                 0.703            10294              61   \n",
      "\n",
      "       Total_Ct_Chng_Q4_Q1  Avg_Utilization_Ratio  \\\n",
      "0                    1.625                  0.061   \n",
      "1                    3.714                  0.105   \n",
      "2                    2.333                  0.000   \n",
      "3                    2.333                  0.760   \n",
      "4                    2.500                  0.000   \n",
      "...                    ...                    ...   \n",
      "10122                0.857                  0.462   \n",
      "10123                0.683                  0.511   \n",
      "10124                0.818                  0.000   \n",
      "10125                0.722                  0.000   \n",
      "10126                0.649                  0.189   \n",
      "\n",
      "       Naive_Bayes_Classifier_Attrition_Flag_Card_Category_Contacts_Count_12_mon_Dependent_count_Education_Level_Months_Inactive_12_mon_1  \\\n",
      "0                                               0.000093                                                                                    \n",
      "1                                               0.000057                                                                                    \n",
      "2                                               0.000021                                                                                    \n",
      "3                                               0.000134                                                                                    \n",
      "4                                               0.000022                                                                                    \n",
      "...                                                  ...                                                                                    \n",
      "10122                                           0.000191                                                                                    \n",
      "10123                                           0.995270                                                                                    \n",
      "10124                                           0.997880                                                                                    \n",
      "10125                                           0.996710                                                                                    \n",
      "10126                                           0.996620                                                                                    \n",
      "\n",
      "       Naive_Bayes_Classifier_Attrition_Flag_Card_Category_Contacts_Count_12_mon_Dependent_count_Education_Level_Months_Inactive_12_mon_2  \n",
      "0                                               0.999910                                                                                   \n",
      "1                                               0.999940                                                                                   \n",
      "2                                               0.999980                                                                                   \n",
      "3                                               0.999870                                                                                   \n",
      "4                                               0.999980                                                                                   \n",
      "...                                                  ...                                                                                   \n",
      "10122                                           0.999810                                                                                   \n",
      "10123                                           0.004729                                                                                   \n",
      "10124                                           0.002118                                                                                   \n",
      "10125                                           0.003294                                                                                   \n",
      "10126                                           0.003377                                                                                   \n",
      "\n",
      "[10127 rows x 23 columns]\n"
     ]
    }
   ],
   "source": [
    "import pandas as pd\n",
    "\n",
    "dataset = pd.read_csv(\"BankChurners.csv\")\n",
    "\n",
    "print (dataset)"
   ]
  },
  {
   "cell_type": "code",
   "execution_count": 29,
   "metadata": {},
   "outputs": [
    {
     "name": "stdout",
     "output_type": "stream",
     "text": [
      "(10127, 23)\n"
     ]
    }
   ],
   "source": [
    "data = dataset.iloc[:, 10:23 ]\n",
    "print (np.shape(dataset))"
   ]
  },
  {
   "cell_type": "code",
   "execution_count": 43,
   "metadata": {},
   "outputs": [
    {
     "name": "stdout",
     "output_type": "stream",
     "text": [
      "KMeans(algorithm='auto', copy_x=True, init='k-means++', max_iter=300,\n",
      "       n_clusters=5, n_init=10, n_jobs=None, precompute_distances='auto',\n",
      "       random_state=1, tol=0.0001, verbose=0)\n",
      "\n",
      "\n",
      "iterasi :   22\n"
     ]
    }
   ],
   "source": [
    "import numpy as np\n",
    "from sklearn import datasets\n",
    "from sklearn.cluster import KMeans\n",
    "from sklearn.preprocessing import scale\n",
    "from sklearn.metrics import confusion_matrix, classification_report\n",
    "\n",
    "# dataset = datasets.load_iris()\n",
    "data = dataset.iloc[:, 10:23 ]\n",
    "\n",
    "dataset_array = np.array(data)\n",
    "from sklearn.preprocessing import MinMaxScaler\n",
    "scaler = MinMaxScaler()\n",
    "X_scaled = scaler.fit_transform(dataset_array)\n",
    "\n",
    "km = KMeans(n_clusters=5, random_state=1).fit(X_scaled)\n",
    "\n",
    "print (km)\n",
    "print ('\\n')\n",
    "print (\"iterasi :  \", km.n_iter_)"
   ]
  },
  {
   "cell_type": "code",
   "execution_count": 46,
   "metadata": {},
   "outputs": [
    {
     "name": "stdout",
     "output_type": "stream",
     "text": [
      "Scatter Plot untuk KMeans library\n"
     ]
    },
    {
     "data": {
      "image/png": "[encoded data removed]",
      "text/plain": [
       "<Figure size 720x432 with 1 Axes>"
      ]
     },
     "metadata": {
      "needs_background": "light"
     },
     "output_type": "display_data"
    }
   ],
   "source": [
    "from matplotlib import pyplot as plt\n",
    "\n",
    "#Scatter Plot (Kmeans library)\n",
    "print (\"Scatter Plot untuk KMeans library\")\n",
    "plt.rcParams['figure.figsize'] = (10, 6)\n",
    "plt.scatter(X_scaled[:,1], X_scaled[:,0], c=km.labels_, s=20)\n",
    "center = km.cluster_centers_\n",
    "plt.scatter(center[:,0], center[:,1], c='red', s=200, marker='o')\n",
    "plt.show()"
   ]
  },
  {
   "cell_type": "code",
   "execution_count": null,
   "metadata": {},
   "outputs": [],
   "source": []
  },
  {
   "cell_type": "code",
   "execution_count": null,
   "metadata": {},
   "outputs": [],
   "source": []
  }
 ],
 "metadata": {
  "kernelspec": {
   "display_name": "Python 3",
   "language": "python",
   "name": "python3"
  },
  "language_info": {
   "codemirror_mode": {
    "name": "ipython",
    "version": 3
   },
   "file_extension": ".py",
   "mimetype": "text/x-python",
   "name": "python",
   "nbconvert_exporter": "python",
   "pygments_lexer": "ipython3",
   "version": "3.8.2"
  }
 },
 "nbformat": 4,
 "nbformat_minor": 4
}
